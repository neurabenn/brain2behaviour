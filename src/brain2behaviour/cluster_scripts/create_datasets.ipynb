{
 "cells": [
  {
   "cell_type": "code",
   "execution_count": 38,
   "id": "460581c8-8062-4dd2-99a2-9ce9122eeae3",
   "metadata": {},
   "outputs": [],
   "source": [
    "import os\n",
    "from brain2behaviour.dataset import BrainBehaviorDataset\n",
    "\n",
    "once_random_Seeds=[0,42,19,123,10,69,33,1,1234,9245]\n",
    "datadir='/well/margulies/projects/DistanceValidation/data/HCP/'\n",
    "beh_data=f'{datadir}/Behavior/ReadEng.csv'\n",
    "confounds=f'{datadir}/ConfoundSets/OriginalPubConfounds.csv'\n",
    "fam_data=f'{datadir}/Behavior/family_data.csv'\n",
    "replicable_subjects='/well/margulies/projects/DistanceValidation/data/HCP/replicability_subjects/SubjectInclusionList.csv'"
   ]
  },
  {
   "cell_type": "code",
   "execution_count": 39,
   "id": "19c849ed-a1e0-48d4-9142-dcf080b68830",
   "metadata": {},
   "outputs": [
    {
     "name": "stdout",
     "output_type": "stream",
     "text": [
      "New unsaved dataset. Dataset will be saved to /well/margulies/projects/DistanceValidation/data/HCP//Distance/Cammoun125/Cammoun125_Reading.pkl when .save is called\n",
      "first iteration use data as is\n",
      "####################################\n",
      "New unsaved dataset. Dataset will be saved to /well/margulies/projects/DistanceValidation/data/HCP//Distance/Cammoun250/Cammoun250_Reading.pkl when .save is called\n",
      "first iteration use data as is\n",
      "####################################\n",
      "New unsaved dataset. Dataset will be saved to /well/margulies/projects/DistanceValidation/data/HCP//Distance/Cammoun33/Cammoun33_Reading.pkl when .save is called\n",
      "first iteration use data as is\n",
      "####################################\n",
      "New unsaved dataset. Dataset will be saved to /well/margulies/projects/DistanceValidation/data/HCP//Distance/Cammoun500/Cammoun500_Reading.pkl when .save is called\n",
      "first iteration use data as is\n",
      "####################################\n",
      "New unsaved dataset. Dataset will be saved to /well/margulies/projects/DistanceValidation/data/HCP//Distance/Cammoun60/Cammoun60_Reading.pkl when .save is called\n",
      "first iteration use data as is\n",
      "####################################\n",
      "New unsaved dataset. Dataset will be saved to /well/margulies/projects/DistanceValidation/data/HCP//Distance/Glasser/Glasser_Reading.pkl when .save is called\n",
      "first iteration use data as is\n",
      "####################################\n",
      "New unsaved dataset. Dataset will be saved to /well/margulies/projects/DistanceValidation/data/HCP//Distance/Schaefer1000/Schaefer1000_Reading.pkl when .save is called\n",
      "first iteration use data as is\n",
      "####################################\n",
      "New unsaved dataset. Dataset will be saved to /well/margulies/projects/DistanceValidation/data/HCP//Distance/Schaefer100/Schaefer100_Reading.pkl when .save is called\n",
      "first iteration use data as is\n",
      "####################################\n",
      "New unsaved dataset. Dataset will be saved to /well/margulies/projects/DistanceValidation/data/HCP//Distance/Schaefer200/Schaefer200_Reading.pkl when .save is called\n",
      "first iteration use data as is\n",
      "####################################\n",
      "New unsaved dataset. Dataset will be saved to /well/margulies/projects/DistanceValidation/data/HCP//Distance/Schaefer300/Schaefer300_Reading.pkl when .save is called\n",
      "first iteration use data as is\n",
      "####################################\n",
      "New unsaved dataset. Dataset will be saved to /well/margulies/projects/DistanceValidation/data/HCP//Distance/Schaefer400/Schaefer400_Reading.pkl when .save is called\n",
      "first iteration use data as is\n",
      "####################################\n",
      "New unsaved dataset. Dataset will be saved to /well/margulies/projects/DistanceValidation/data/HCP//Distance/Schaefer500/Schaefer500_Reading.pkl when .save is called\n",
      "first iteration use data as is\n",
      "####################################\n",
      "New unsaved dataset. Dataset will be saved to /well/margulies/projects/DistanceValidation/data/HCP//Distance/Schaefer600/Schaefer600_Reading.pkl when .save is called\n",
      "first iteration use data as is\n",
      "####################################\n",
      "New unsaved dataset. Dataset will be saved to /well/margulies/projects/DistanceValidation/data/HCP//Distance/Schaefer700/Schaefer700_Reading.pkl when .save is called\n",
      "first iteration use data as is\n",
      "####################################\n",
      "New unsaved dataset. Dataset will be saved to /well/margulies/projects/DistanceValidation/data/HCP//Distance/Schaefer800/Schaefer800_Reading.pkl when .save is called\n",
      "first iteration use data as is\n",
      "####################################\n",
      "New unsaved dataset. Dataset will be saved to /well/margulies/projects/DistanceValidation/data/HCP//Distance/Schaefer900/Schaefer900_Reading.pkl when .save is called\n",
      "first iteration use data as is\n",
      "####################################\n",
      "New unsaved dataset. Dataset will be saved to /well/margulies/projects/DistanceValidation/data/HCP//FC/Cammoun125/Cammoun125_Reading.pkl when .save is called\n",
      "first iteration use data as is\n",
      "####################################\n",
      "New unsaved dataset. Dataset will be saved to /well/margulies/projects/DistanceValidation/data/HCP//FC/Cammoun250/Cammoun250_Reading.pkl when .save is called\n",
      "first iteration use data as is\n",
      "####################################\n",
      "New unsaved dataset. Dataset will be saved to /well/margulies/projects/DistanceValidation/data/HCP//FC/Cammoun33/Cammoun33_Reading.pkl when .save is called\n",
      "first iteration use data as is\n",
      "####################################\n",
      "New unsaved dataset. Dataset will be saved to /well/margulies/projects/DistanceValidation/data/HCP//FC/Cammoun500/Cammoun500_Reading.pkl when .save is called\n",
      "first iteration use data as is\n",
      "####################################\n",
      "New unsaved dataset. Dataset will be saved to /well/margulies/projects/DistanceValidation/data/HCP//FC/Cammoun60/Cammoun60_Reading.pkl when .save is called\n",
      "first iteration use data as is\n",
      "####################################\n",
      "New unsaved dataset. Dataset will be saved to /well/margulies/projects/DistanceValidation/data/HCP//FC/Glasser/Glasser_Reading.pkl when .save is called\n",
      "first iteration use data as is\n",
      "####################################\n",
      "New unsaved dataset. Dataset will be saved to /well/margulies/projects/DistanceValidation/data/HCP//FC/Schaefer1000/Schaefer1000_Reading.pkl when .save is called\n",
      "first iteration use data as is\n",
      "####################################\n",
      "New unsaved dataset. Dataset will be saved to /well/margulies/projects/DistanceValidation/data/HCP//FC/Schaefer100/Schaefer100_Reading.pkl when .save is called\n",
      "first iteration use data as is\n",
      "####################################\n",
      "New unsaved dataset. Dataset will be saved to /well/margulies/projects/DistanceValidation/data/HCP//FC/Schaefer200/Schaefer200_Reading.pkl when .save is called\n",
      "first iteration use data as is\n",
      "####################################\n",
      "New unsaved dataset. Dataset will be saved to /well/margulies/projects/DistanceValidation/data/HCP//FC/Schaefer300/Schaefer300_Reading.pkl when .save is called\n",
      "first iteration use data as is\n",
      "####################################\n",
      "New unsaved dataset. Dataset will be saved to /well/margulies/projects/DistanceValidation/data/HCP//FC/Schaefer400/Schaefer400_Reading.pkl when .save is called\n",
      "first iteration use data as is\n",
      "####################################\n",
      "New unsaved dataset. Dataset will be saved to /well/margulies/projects/DistanceValidation/data/HCP//FC/Schaefer500/Schaefer500_Reading.pkl when .save is called\n",
      "first iteration use data as is\n",
      "####################################\n",
      "New unsaved dataset. Dataset will be saved to /well/margulies/projects/DistanceValidation/data/HCP//FC/Schaefer600/Schaefer600_Reading.pkl when .save is called\n",
      "first iteration use data as is\n",
      "####################################\n",
      "New unsaved dataset. Dataset will be saved to /well/margulies/projects/DistanceValidation/data/HCP//FC/Schaefer700/Schaefer700_Reading.pkl when .save is called\n",
      "first iteration use data as is\n",
      "####################################\n",
      "New unsaved dataset. Dataset will be saved to /well/margulies/projects/DistanceValidation/data/HCP//FC/Schaefer800/Schaefer800_Reading.pkl when .save is called\n",
      "first iteration use data as is\n",
      "####################################\n",
      "New unsaved dataset. Dataset will be saved to /well/margulies/projects/DistanceValidation/data/HCP//FC/Schaefer900/Schaefer900_Reading.pkl when .save is called\n",
      "first iteration use data as is\n",
      "####################################\n",
      "New unsaved dataset. Dataset will be saved to /well/margulies/projects/DistanceValidation/data/HCP//SurfaceArea/Cammoun033/Cammoun033_Reading.pkl when .save is called\n",
      "first iteration use data as is\n",
      "####################################\n",
      "New unsaved dataset. Dataset will be saved to /well/margulies/projects/DistanceValidation/data/HCP//SurfaceArea/Cammoun060/Cammoun060_Reading.pkl when .save is called\n",
      "first iteration use data as is\n",
      "####################################\n",
      "New unsaved dataset. Dataset will be saved to /well/margulies/projects/DistanceValidation/data/HCP//SurfaceArea/Cammoun125/Cammoun125_Reading.pkl when .save is called\n",
      "first iteration use data as is\n",
      "####################################\n",
      "New unsaved dataset. Dataset will be saved to /well/margulies/projects/DistanceValidation/data/HCP//SurfaceArea/Cammoun250/Cammoun250_Reading.pkl when .save is called\n",
      "first iteration use data as is\n",
      "####################################\n",
      "New unsaved dataset. Dataset will be saved to /well/margulies/projects/DistanceValidation/data/HCP//SurfaceArea/Cammoun500/Cammoun500_Reading.pkl when .save is called\n",
      "first iteration use data as is\n",
      "####################################\n",
      "New unsaved dataset. Dataset will be saved to /well/margulies/projects/DistanceValidation/data/HCP//SurfaceArea/CammounMultiScale/CammounMultiScale_Reading.pkl when .save is called\n",
      "first iteration use data as is\n",
      "####################################\n",
      "New unsaved dataset. Dataset will be saved to /well/margulies/projects/DistanceValidation/data/HCP//SurfaceArea/Glasser/Glasser_Reading.pkl when .save is called\n",
      "first iteration use data as is\n",
      "####################################\n",
      "New unsaved dataset. Dataset will be saved to /well/margulies/projects/DistanceValidation/data/HCP//SurfaceArea/Schaefer1000/Schaefer1000_Reading.pkl when .save is called\n",
      "first iteration use data as is\n",
      "####################################\n",
      "New unsaved dataset. Dataset will be saved to /well/margulies/projects/DistanceValidation/data/HCP//SurfaceArea/Schaefer100/Schaefer100_Reading.pkl when .save is called\n",
      "first iteration use data as is\n",
      "####################################\n",
      "New unsaved dataset. Dataset will be saved to /well/margulies/projects/DistanceValidation/data/HCP//SurfaceArea/Schaefer200/Schaefer200_Reading.pkl when .save is called\n",
      "first iteration use data as is\n",
      "####################################\n",
      "New unsaved dataset. Dataset will be saved to /well/margulies/projects/DistanceValidation/data/HCP//SurfaceArea/Schaefer300/Schaefer300_Reading.pkl when .save is called\n",
      "first iteration use data as is\n",
      "####################################\n",
      "New unsaved dataset. Dataset will be saved to /well/margulies/projects/DistanceValidation/data/HCP//SurfaceArea/Schaefer400/Schaefer400_Reading.pkl when .save is called\n",
      "first iteration use data as is\n",
      "####################################\n",
      "New unsaved dataset. Dataset will be saved to /well/margulies/projects/DistanceValidation/data/HCP//SurfaceArea/Schaefer500/Schaefer500_Reading.pkl when .save is called\n",
      "first iteration use data as is\n",
      "####################################\n",
      "New unsaved dataset. Dataset will be saved to /well/margulies/projects/DistanceValidation/data/HCP//SurfaceArea/Schaefer600/Schaefer600_Reading.pkl when .save is called\n",
      "first iteration use data as is\n",
      "####################################\n",
      "New unsaved dataset. Dataset will be saved to /well/margulies/projects/DistanceValidation/data/HCP//SurfaceArea/Schaefer700/Schaefer700_Reading.pkl when .save is called\n",
      "first iteration use data as is\n",
      "####################################\n",
      "New unsaved dataset. Dataset will be saved to /well/margulies/projects/DistanceValidation/data/HCP//SurfaceArea/Schaefer800/Schaefer800_Reading.pkl when .save is called\n",
      "first iteration use data as is\n",
      "####################################\n",
      "New unsaved dataset. Dataset will be saved to /well/margulies/projects/DistanceValidation/data/HCP//SurfaceArea/Schaefer900/Schaefer900_Reading.pkl when .save is called\n",
      "first iteration use data as is\n",
      "####################################\n",
      "New unsaved dataset. Dataset will be saved to /well/margulies/projects/DistanceValidation/data/HCP//SurfaceArea/SchaeferMultiScale/SchaeferMultiScale_Reading.pkl when .save is called\n",
      "first iteration use data as is\n",
      "####################################\n"
     ]
    }
   ],
   "source": [
    "brain_data_files=!ls {datadir}/*/*/*LR*gzip\n",
    "for i in brain_data_files:\n",
    "    odir=os.path.dirname(i)\n",
    "    file_name=odir.split('/')[-1]\n",
    "    out_path=f'{odir}/{file_name}_Reading.pkl'\n",
    "    dataset=BrainBehaviorDataset(i,beh_data,confounds,(10,10),out_path,subjectList=replicable_subjects,cv_seeds=once_random_Seeds)\n",
    "    dataset.gen_CV_FamilyFoldsImplicit(fam_data,'Family_ID')\n",
    "    dataset.save(overwrite=True)\n",
    "    print('####################################') \n",
    "\n",
    "    \n",
    "    "
   ]
  },
  {
   "cell_type": "code",
   "execution_count": 40,
   "id": "1c5da7e2-41a2-4075-a201-c899fbdbf9eb",
   "metadata": {},
   "outputs": [
    {
     "name": "stdout",
     "output_type": "stream",
     "text": [
      "wrote worklist.txt with 5,000 lines\n"
     ]
    }
   ],
   "source": [
    "pickles=!ls /well/margulies/projects/DistanceValidation/data/HCP/*/*/*pkl\n",
    "folds=list(dataset.cv_folds.keys())\n",
    "\n",
    "out_file = Path(\"worklist.txt\")                # or \"parameters.txt\"\n",
    "with out_file.open(\"w\") as fh:\n",
    "    for pkl in pickles:\n",
    "        for fold in folds:\n",
    "            fh.write(f\"{pkl} {fold}\\n\")\n",
    "print(f\"wrote {out_file} with {len(pickles)*len(folds):,} lines\")"
   ]
  },
  {
   "cell_type": "markdown",
   "id": "51eae4b9-63bb-4ebe-b05b-039d9defb78b",
   "metadata": {},
   "source": [
    "### Collect the features now"
   ]
  },
  {
   "cell_type": "code",
   "execution_count": 50,
   "id": "526f0403-bb22-460f-b280-ea6736da6631",
   "metadata": {},
   "outputs": [
    {
     "ename": "FileNotFoundError",
     "evalue": "Missing feature file: /well/margulies/projects/DistanceValidation/data/HCP/Distance/Cammoun125/features_tmp/fold001.parquet. Make sure you run have extracted features prior to running",
     "output_type": "error",
     "traceback": [
      "\u001b[0;31m---------------------------------------------------------------------------\u001b[0m",
      "\u001b[0;31mFileNotFoundError\u001b[0m                         Traceback (most recent call last)",
      "Cell \u001b[0;32mIn[50], line 5\u001b[0m\n\u001b[1;32m      3\u001b[0m feature_dir\u001b[38;5;241m=\u001b[39m\u001b[38;5;124mf\u001b[39m\u001b[38;5;124m'\u001b[39m\u001b[38;5;132;01m{\u001b[39;00mdir_name\u001b[38;5;132;01m}\u001b[39;00m\u001b[38;5;124m/features_tmp\u001b[39m\u001b[38;5;124m'\u001b[39m\n\u001b[1;32m      4\u001b[0m dataset\u001b[38;5;241m=\u001b[39mBrainBehaviorDataset\u001b[38;5;241m.\u001b[39mload(dill)\n\u001b[0;32m----> 5\u001b[0m \u001b[43mdataset\u001b[49m\u001b[38;5;241;43m.\u001b[39;49m\u001b[43mcollect_features\u001b[49m\u001b[43m(\u001b[49m\u001b[43mfeature_dir\u001b[49m\u001b[43m)\u001b[49m\n\u001b[1;32m      6\u001b[0m dataset\u001b[38;5;241m.\u001b[39msave(overwrite\u001b[38;5;241m=\u001b[39m\u001b[38;5;28;01mTrue\u001b[39;00m)\n",
      "File \u001b[0;32m/gpfs3/well/margulies/users/mnk884/DistanceValidationOx2025/brain2behaviour/src/brain2behaviour/dataset/dataset.py:334\u001b[0m, in \u001b[0;36mBrainBehaviorDataset.collect_features\u001b[0;34m(self, feature_dir, threshold_percentage)\u001b[0m\n\u001b[1;32m    332\u001b[0m path \u001b[38;5;241m=\u001b[39m os\u001b[38;5;241m.\u001b[39mpath\u001b[38;5;241m.\u001b[39mjoin(feature_dir, \u001b[38;5;124mf\u001b[39m\u001b[38;5;124m\"\u001b[39m\u001b[38;5;132;01m{\u001b[39;00mfold\u001b[38;5;132;01m}\u001b[39;00m\u001b[38;5;124m.parquet\u001b[39m\u001b[38;5;124m\"\u001b[39m)\n\u001b[1;32m    333\u001b[0m \u001b[38;5;28;01mif\u001b[39;00m \u001b[38;5;129;01mnot\u001b[39;00m os\u001b[38;5;241m.\u001b[39mpath\u001b[38;5;241m.\u001b[39misfile(path):\n\u001b[0;32m--> 334\u001b[0m     \u001b[38;5;28;01mraise\u001b[39;00m \u001b[38;5;167;01mFileNotFoundError\u001b[39;00m(\u001b[38;5;124mf\u001b[39m\u001b[38;5;124m\"\u001b[39m\u001b[38;5;124mMissing feature file: \u001b[39m\u001b[38;5;132;01m{\u001b[39;00mpath\u001b[38;5;132;01m}\u001b[39;00m\u001b[38;5;124m. Make sure you run have extracted features prior to running\u001b[39m\u001b[38;5;124m\"\u001b[39m)\n\u001b[1;32m    336\u001b[0m df \u001b[38;5;241m=\u001b[39m pd\u001b[38;5;241m.\u001b[39mread_parquet(path)                \u001b[38;5;66;03m# index = edge, columns = tasks\u001b[39;00m\n\u001b[1;32m    337\u001b[0m \u001b[38;5;28;01mfor\u001b[39;00m task \u001b[38;5;129;01min\u001b[39;00m df\u001b[38;5;241m.\u001b[39mcolumns:                   \u001b[38;5;66;03m# iterate over each column once\u001b[39;00m\n",
      "\u001b[0;31mFileNotFoundError\u001b[0m: Missing feature file: /well/margulies/projects/DistanceValidation/data/HCP/Distance/Cammoun125/features_tmp/fold001.parquet. Make sure you run have extracted features prior to running"
     ]
    }
   ],
   "source": [
    "for dill in pickles:\n",
    "    dir_name=os.path.dirname(dill)\n",
    "    feature_dir=f'{dir_name}/features_tmp'\n",
    "    dataset=BrainBehaviorDataset.load(dill)\n",
    "    dataset.collect_features(feature_dir)\n",
    "    dataset.save(overwrite=True)"
   ]
  },
  {
   "cell_type": "code",
   "execution_count": 49,
   "id": "3bec6cd1-4634-4a4b-90d9-48d82f6f4d88",
   "metadata": {},
   "outputs": [],
   "source": [
    "tst=BrainBehaviorDataset.load(dill)"
   ]
  },
  {
   "cell_type": "code",
   "execution_count": null,
   "id": "0bad2ddd-d028-491e-9976-3df560ffea94",
   "metadata": {},
   "outputs": [],
   "source": [
    "tst.collect_features()"
   ]
  },
  {
   "cell_type": "code",
   "execution_count": 59,
   "id": "3a41d116-3fd9-468b-8fc9-6982b83a000e",
   "metadata": {},
   "outputs": [
    {
     "name": "stdout",
     "output_type": "stream",
     "text": [
      "The job id is 47563225\n",
      "Processing fold 0\n",
      "/well/margulies/projects/DistanceValidation/data/HCP/Distance/Cammoun125/Cammoun125_Reading.pkl\n",
      "fold001\n",
      "python3 -u select_features_batch.py --dataset /well/margulies/projects/DistanceValidation/data/HCP/Distance/Cammoun125/Cammoun125_Reading.pkl --fold fold001\n",
      "Traceback (most recent call last):\n",
      "  File \"select_features_batch.py\", line 6, in <module>\n",
      "    from brain2behaviour.preprocessing.preprocessing import clean_dataset\n",
      "ImportError: cannot import name 'clean_dataset' from 'brain2behaviour.preprocessing.preprocessing' (/gpfs3/well/margulies/users/mnk884/DistanceValidationOx2025/brain2behaviour/src/brain2behaviour/preprocessing/preprocessing.py)\n"
     ]
    }
   ],
   "source": [
    "!cat logs/FeatureExtraction-47563226-0.out "
   ]
  },
  {
   "cell_type": "code",
   "execution_count": null,
   "id": "6b622893-f1dc-4238-ae5d-f18159173886",
   "metadata": {},
   "outputs": [],
   "source": [
    "from brain2behaviour.preprocessing import clean_fold"
   ]
  }
 ],
 "metadata": {
  "kernelspec": {
   "display_name": "Python 3 (ipykernel)",
   "language": "python",
   "name": "python3"
  },
  "language_info": {
   "codemirror_mode": {
    "name": "ipython",
    "version": 3
   },
   "file_extension": ".py",
   "mimetype": "text/x-python",
   "name": "python",
   "nbconvert_exporter": "python",
   "pygments_lexer": "ipython3",
   "version": "3.8.2"
  }
 },
 "nbformat": 4,
 "nbformat_minor": 5
}
